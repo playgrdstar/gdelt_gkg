{
 "cells": [
  {
   "cell_type": "code",
   "execution_count": 1,
   "metadata": {},
   "outputs": [],
   "source": [
    "import os\n",
    "import pandas as pd\n",
    "import numpy as np\n",
    "from pathlib import Path\n",
    "from tqdm import tqdm\n",
    "import swifter\n",
    "from rapidfuzz import process, fuzz\n",
    "from datetime import datetime, timedelta\n",
    "from dateutil import relativedelta as rd\n",
    "import warnings\n",
    "warnings.filterwarnings(action='ignore')"
   ]
  },
  {
   "cell_type": "code",
   "execution_count": 2,
   "metadata": {},
   "outputs": [],
   "source": [
    "def replace_short(item):\n",
    "    if len(item)> 2:\n",
    "        return item\n",
    "    else:\n",
    "        return ''\n",
    "        \n",
    "def extract_orgs(row):\n",
    "    return [item.split(',')[0] for item in row.split(';')]"
   ]
  },
  {
   "cell_type": "code",
   "execution_count": 3,
   "metadata": {},
   "outputs": [],
   "source": [
    "master_ticker_pairs = pd.read_csv('master_ticker_name.csv')\n",
    "master_ticker_pairs['COMNAM'] = master_ticker_pairs['COMNAM'].str.lower()\n",
    "master_ticker_pairs['combined'] = master_ticker_pairs['COMNAM'].str.replace(' ', '')\n",
    "master_ticker_pairs = master_ticker_pairs.fillna('')\n",
    "master_ticker_pairs['combined'] = master_ticker_pairs['combined'].apply(replace_short)\n",
    "\n",
    "namelist = list(master_ticker_pairs.combined)\n",
    "tickerlist = list(master_ticker_pairs.TICKER)"
   ]
  },
  {
   "cell_type": "code",
   "execution_count": 4,
   "metadata": {},
   "outputs": [],
   "source": [
    "threshold = 75\n",
    "def map_to_comnam(row):\n",
    "    mapped = []\n",
    "    for name in row:\n",
    "        ticker_result, ticker_score, _ = process.extractOne(name, tickerlist, scorer=fuzz.QRatio)      \n",
    "        if ticker_score > threshold:\n",
    "            # print(f'name:{name} | ticker_result:{ticker_result} | ticker_score:{ticker_score}')\n",
    "            # print(f'added: {sel_tickers[sel_tickers.TICKER == ticker_result].TICKER.values[0]}')\n",
    "            found_ticker = master_ticker_pairs[master_ticker_pairs.TICKER == ticker_result].TICKER.values[0]\n",
    "            if (found_ticker not in mapped):\n",
    "                mapped.append(found_ticker)\n",
    "\n",
    "        name_result, name_score, _ = process.extractOne(name, namelist, scorer=fuzz.QRatio)\n",
    "        if name_score > threshold:\n",
    "            # print(f'name:{name} | ticker_result:{name_result} | ticker_score:{name_score}')\n",
    "            # print(f'added: {sel_tickers[sel_tickers.first_second == name_result].TICKER.values[0]}')\n",
    "            found_ticker = master_ticker_pairs[master_ticker_pairs.combined == name_result].TICKER.values[0]\n",
    "            if (found_ticker not in mapped):\n",
    "                mapped.append(found_ticker)\n",
    "    if len(mapped) == 0:\n",
    "        return None\n",
    "    else:\n",
    "        return mapped"
   ]
  },
  {
   "cell_type": "code",
   "execution_count": 5,
   "metadata": {},
   "outputs": [
    {
     "name": "stdout",
     "output_type": "stream",
     "text": [
      "Length before removing nulls: 10, after removing nulls: 5\n",
      "Number of articles with tags: 1\n"
     ]
    }
   ],
   "source": [
    "gkg_df = pd.read_csv('sample.csv')\n",
    "gkg_df_ = gkg_df[~gkg_df.V2Organizations.isnull()].reset_index(drop=True)\\\n",
    "\n",
    "print(f'Length before removing nulls: {len(gkg_df)}, after removing nulls: {len(gkg_df_)}')\n",
    "\n",
    "gkg_df_['orgs'] = gkg_df_.V2Organizations.apply(extract_orgs)\n",
    "gkg_df_['tags'] = gkg_df_.loc[:,'orgs'].swifter.progress_bar(False).apply(map_to_comnam)\n",
    "\n",
    "filtered_gkg = gkg_df_[~gkg_df_.tags.isnull()]\n",
    "print(f'Number of articles with tags: {len(filtered_gkg)}')"
   ]
  },
  {
   "cell_type": "code",
   "execution_count": 6,
   "metadata": {},
   "outputs": [
    {
     "data": {
      "text/html": [
       "<div>\n",
       "<style scoped>\n",
       "    .dataframe tbody tr th:only-of-type {\n",
       "        vertical-align: middle;\n",
       "    }\n",
       "\n",
       "    .dataframe tbody tr th {\n",
       "        vertical-align: top;\n",
       "    }\n",
       "\n",
       "    .dataframe thead th {\n",
       "        text-align: right;\n",
       "    }\n",
       "</style>\n",
       "<table border=\"1\" class=\"dataframe\">\n",
       "  <thead>\n",
       "    <tr style=\"text-align: right;\">\n",
       "      <th></th>\n",
       "      <th>DATE</th>\n",
       "      <th>SourceCollectionIdentifier</th>\n",
       "      <th>SourceCommonName</th>\n",
       "      <th>DocumentIdentifier</th>\n",
       "      <th>V2Themes</th>\n",
       "      <th>V2Locations</th>\n",
       "      <th>V2Persons</th>\n",
       "      <th>V2Organizations</th>\n",
       "      <th>V2Tone</th>\n",
       "      <th>SharingImage</th>\n",
       "      <th>RelatedImages</th>\n",
       "      <th>Quotations</th>\n",
       "      <th>AllNames</th>\n",
       "      <th>Amounts</th>\n",
       "      <th>date</th>\n",
       "      <th>orgs</th>\n",
       "      <th>tags</th>\n",
       "    </tr>\n",
       "  </thead>\n",
       "  <tbody>\n",
       "    <tr>\n",
       "      <th>0</th>\n",
       "      <td>2.020110e+13</td>\n",
       "      <td>1</td>\n",
       "      <td>iheart.com</td>\n",
       "      <td>https://y969.iheart.com/content/2020-11-05-ihe...</td>\n",
       "      <td>MEDIA_MSM,143;MEDIA_SOCIAL,787;GEN_HOLIDAY,72;...</td>\n",
       "      <td>NaN</td>\n",
       "      <td>Carrie Underwood,404;Josh Groban,418;Josh Grob...</td>\n",
       "      <td>Facebook,798</td>\n",
       "      <td>11.1764705882353,11.1764705882353,0,11.1764705...</td>\n",
       "      <td>https://i.iheart.com/v3/re/new_assets/5fa47d29...</td>\n",
       "      <td>NaN</td>\n",
       "      <td>NaN</td>\n",
       "      <td>HeartRadio Holiday Special,373;Carrie Underwoo...</td>\n",
       "      <td>7000000,local time via iHeartRadio,642;</td>\n",
       "      <td>7/11/2020 7:30</td>\n",
       "      <td>[Facebook]</td>\n",
       "      <td>[FB]</td>\n",
       "    </tr>\n",
       "  </tbody>\n",
       "</table>\n",
       "</div>"
      ],
      "text/plain": [
       "           DATE  SourceCollectionIdentifier SourceCommonName  \\\n",
       "0  2.020110e+13                           1       iheart.com   \n",
       "\n",
       "                                  DocumentIdentifier  \\\n",
       "0  https://y969.iheart.com/content/2020-11-05-ihe...   \n",
       "\n",
       "                                            V2Themes  V2Locations  \\\n",
       "0  MEDIA_MSM,143;MEDIA_SOCIAL,787;GEN_HOLIDAY,72;...          NaN   \n",
       "\n",
       "                                           V2Persons V2Organizations  \\\n",
       "0  Carrie Underwood,404;Josh Groban,418;Josh Grob...    Facebook,798   \n",
       "\n",
       "                                              V2Tone  \\\n",
       "0  11.1764705882353,11.1764705882353,0,11.1764705...   \n",
       "\n",
       "                                        SharingImage RelatedImages Quotations  \\\n",
       "0  https://i.iheart.com/v3/re/new_assets/5fa47d29...           NaN        NaN   \n",
       "\n",
       "                                            AllNames  \\\n",
       "0  HeartRadio Holiday Special,373;Carrie Underwoo...   \n",
       "\n",
       "                                   Amounts            date        orgs  tags  \n",
       "0  7000000,local time via iHeartRadio,642;  7/11/2020 7:30  [Facebook]  [FB]  "
      ]
     },
     "execution_count": 6,
     "metadata": {},
     "output_type": "execute_result"
    }
   ],
   "source": [
    "filtered_gkg"
   ]
  }
 ],
 "metadata": {
  "interpreter": {
   "hash": "4dc61c48035a2d0e7cce486d779e81f53a0347be39e909388720663d48da2e38"
  },
  "kernelspec": {
   "display_name": "Python 3.8.11 64-bit ('py': conda)",
   "name": "python3"
  },
  "language_info": {
   "codemirror_mode": {
    "name": "ipython",
    "version": 3
   },
   "file_extension": ".py",
   "mimetype": "text/x-python",
   "name": "python",
   "nbconvert_exporter": "python",
   "pygments_lexer": "ipython3",
   "version": "3.8.10"
  },
  "orig_nbformat": 4
 },
 "nbformat": 4,
 "nbformat_minor": 2
}
