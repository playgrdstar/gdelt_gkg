{
 "cells": [
  {
   "cell_type": "code",
   "execution_count": null,
   "metadata": {},
   "outputs": [],
   "source": [
    "import os\n",
    "from pathlib import Path\n",
    "import pandas as pd\n",
    "from google.cloud import bigquery\n",
    "from datetime import datetime, timedelta\n",
    "from dateutil import relativedelta as rd"
   ]
  },
  {
   "cell_type": "code",
   "execution_count": null,
   "metadata": {},
   "outputs": [],
   "source": [
    "home_dir = Path(os.getcwd())\n",
    "key_dir = #<location of your Google Cloud json key>\n",
    "data_dir = home_dir/'data'\n",
    "os.environ['GOOGLE_APPLICATION_CREDENTIALS'] = str(key_dir/'gdelt-key.json')"
   ]
  },
  {
   "cell_type": "code",
   "execution_count": null,
   "metadata": {},
   "outputs": [],
   "source": [
    "# Generate a list of dates\n",
    "start_ = '2017-12-03'\n",
    "end_ = '2020-12-31'\n",
    "final_start_time = datetime.strptime(start_, '%Y-%m-%d')\n",
    "final_end_time = datetime.strptime(end_, '%Y-%m-%d') \n",
    "num_days = (final_end_time - final_start_time).days\n",
    "time_list = []\n",
    "start_time_ = datetime.strptime(start_, '%Y-%m-%d')\n",
    "for d in range(0,num_days,1):\n",
    "    end_time_ = start_time_ + rd.relativedelta(days=+1)\n",
    "    time_list.append((start_time_.date(), end_time_.date()))\n",
    "    start_time_ = start_time_ + rd.relativedelta(days=+1)"
   ]
  },
  {
   "cell_type": "code",
   "execution_count": null,
   "metadata": {},
   "outputs": [],
   "source": [
    "bqclient = bigquery.Client()"
   ]
  },
  {
   "cell_type": "code",
   "execution_count": null,
   "metadata": {},
   "outputs": [],
   "source": [
    "for d in range(len(time_list)):\n",
    "    start_date, end_date = time_list[d]\n",
    "    print(f'Downloading for {start_date}...')\n",
    "    query_string = f\"\"\"\n",
    "        SELECT DATE, SourceCollectionIdentifier, SourceCommonName, DocumentIdentifier, V2Themes, V2Locations, V2Persons, V2Organizations, V2Tone, SharingImage, RelatedImages, Quotations, AllNames, Amounts\n",
    "        FROM `gdelt-bq.gdeltv2.gkg_partitioned` \n",
    "        WHERE DATE(_PARTITIONTIME) >= \"{start_date}\" and DATE(_PARTITIONTIME) < \"{end_date}\"\n",
    "        LIMIT 5000000\n",
    "    \"\"\"\n",
    "    # print(start_date, end_date)\n",
    "    # # Note that each day gives around 300-400k rows\n",
    "\n",
    "    dataframe = (\n",
    "        bqclient.query(query_string)\n",
    "        .result()\n",
    "        .to_dataframe(\n",
    "            create_bqstorage_client=False,\n",
    "        )\n",
    "    )\n",
    "\n",
    "    dataframe['date'] = pd.to_datetime(dataframe.DATE, format='%Y%m%d%H%M%S')\n",
    "    print(f'On {start_date}, there are {len(dataframe)} rows from {dataframe[\"date\"].min()} to {dataframe[\"date\"].max()}')\n",
    "\n",
    "    filename = str(start_date) + '.csv'\n",
    "    dataframe.to_csv(data_dir/filename, index=False)"
   ]
  }
 ],
 "metadata": {
  "interpreter": {
   "hash": "4dc61c48035a2d0e7cce486d779e81f53a0347be39e909388720663d48da2e38"
  },
  "kernelspec": {
   "display_name": "Python 3.8.11 64-bit ('py': conda)",
   "name": "python3"
  },
  "language_info": {
   "codemirror_mode": {
    "name": "ipython",
    "version": 3
   },
   "file_extension": ".py",
   "mimetype": "text/x-python",
   "name": "python",
   "nbconvert_exporter": "python",
   "pygments_lexer": "ipython3",
   "version": "3.8.11"
  },
  "orig_nbformat": 4
 },
 "nbformat": 4,
 "nbformat_minor": 2
}
